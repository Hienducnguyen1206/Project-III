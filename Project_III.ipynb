{
  "nbformat": 4,
  "nbformat_minor": 0,
  "metadata": {
    "colab": {
      "provenance": [],
      "authorship_tag": "ABX9TyNsWHzIsxLibPuGPZERJYoq",
      "include_colab_link": true
    },
    "kernelspec": {
      "name": "python3",
      "display_name": "Python 3"
    },
    "language_info": {
      "name": "python"
    }
  },
  "cells": [
    {
      "cell_type": "markdown",
      "metadata": {
        "id": "view-in-github",
        "colab_type": "text"
      },
      "source": [
        "<a href=\"https://colab.research.google.com/github/Hienducnguyen1206/Project-III/blob/main/Project_III.ipynb\" target=\"_parent\"><img src=\"https://colab.research.google.com/assets/colab-badge.svg\" alt=\"Open In Colab\"/></a>"
      ]
    },
    {
      "cell_type": "markdown",
      "source": [
        "Thêm các thư viện cần thiết và tải bộ dữ liệu mnist"
      ],
      "metadata": {
        "id": "hxpyiuK6_qYU"
      }
    },
    {
      "cell_type": "code",
      "source": [
        "import tensorflow as tf\n",
        "import keras\n",
        "import matplotlib.pyplot as plt;\n",
        "import numpy as np;\n",
        "from sklearn.metrics import precision_score, recall_score;\n",
        "\n"
      ],
      "metadata": {
        "id": "0S6wOLE-Xmyo"
      },
      "execution_count": null,
      "outputs": []
    },
    {
      "cell_type": "code",
      "source": [
        "\n",
        "\n",
        "def load_data():\n",
        "    (x_train, y_train), (x_test, y_test) = tf.keras.datasets.mnist.load_data()\n",
        "    x_train = x_train.reshape(-1, 28, 28, 1)\n",
        "    x_train = x_train / 255.0\n",
        "    x_test = x_test.reshape(-1, 28, 28, 1)\n",
        "    x_test = x_test / 255.0\n",
        "    return x_train, y_train, x_test,y_test;\n",
        "x_train, y_train,x_test,y_test = load_data()\n"
      ],
      "metadata": {
        "id": "kxXNVOAhXr9Y",
        "colab": {
          "base_uri": "https://localhost:8080/"
        },
        "outputId": "3812217a-bf1a-46a9-aaef-5f52db277f7b"
      },
      "execution_count": null,
      "outputs": [
        {
          "output_type": "stream",
          "name": "stdout",
          "text": [
            "Downloading data from https://storage.googleapis.com/tensorflow/tf-keras-datasets/mnist.npz\n",
            "11490434/11490434 [==============================] - 0s 0us/step\n"
          ]
        }
      ]
    },
    {
      "cell_type": "markdown",
      "source": [
        "Xây dựng model:\n",
        "Lớp Sequential có nghĩa là xây dựng một model theo tuần tự, xếp chồng các layers."
      ],
      "metadata": {
        "id": "iijGhOI7pIDI"
      }
    },
    {
      "cell_type": "code",
      "source": [
        "def create_model():\n",
        "    model = keras.models.Sequential([\n",
        "        keras.layers.Conv2D(128, (3,3), activation='relu', padding='same', input_shape=(28,28,1)),\n",
        "        keras.layers.MaxPooling2D(2,2),\n",
        "        keras.layers.Conv2D(64, (3,3), activation='relu'),\n",
        "        keras.layers.MaxPooling2D(2,2),\n",
        "        keras.layers.Flatten(),\n",
        "        keras.layers.Dense(128, activation='relu'),\n",
        "        keras.layers.Dense(10, activation='softmax')\n",
        "    ])\n",
        "    model.compile(optimizer='rmsprop', loss='sparse_categorical_crossentropy', metrics=['acc'])\n",
        "    return model"
      ],
      "metadata": {
        "id": "b8zo3cPmXu4a"
      },
      "execution_count": null,
      "outputs": []
    },
    {
      "cell_type": "markdown",
      "source": [],
      "metadata": {
        "id": "2SFv42Iahbv7"
      }
    },
    {
      "cell_type": "markdown",
      "source": [
        "- Lớp conv2D gồm 128 bộ lọc với kích thước 3*3, sử dụng bộ đệm = same để đầu ra của layer không bị thay đổi so với đầu vào. Đầu vào của layer là hình có kích thước 28x28, kênh màu là 1 do ảnh đen trắng.\n",
        "- Lớp MaxPooling2D lọc các ma trận 2 chiều 2x2 lấy ra điểm ảnh có giá trị lớn nhất.\n",
        "-Lớp conv2D thứ hai gồm 64 bộ lọc với kích thước 3x3 sử dụng hàm kích hoạt relu nhưng không có padding.\n",
        "- Lớp MaxPooling2D thứ hai tương tự lọc các ma trận 2 chiều 2x2 lấy ra điểm ảnh có giá trị lớn nhất.\n",
        "- Lớp Flatten biến đổi dữ liệu từ một ma trận 2 chiều thành vector 1 chiều là đầu vào cho lớp dense.\n",
        "- Lớp Dense thứ nhất là một layer gồm 128 neuron kết nối theo kiểu fully connected, sử dụng hàm kích hoạt relu.\n",
        "- Lớp cuối cùng là một layer gồm 10 neuron tương ứng với 10 phân loại của mô hình (0-9), sử dụng hàm kích hoạt softmax để dự đoán đầu ra cho mỗi lớp.\n",
        "\n",
        "Hàm tối ưu sử dụng là rmsprop và hàm mất mát sparse_categorical_crossentropy cho bài toán phân loại đa nhãn.\n",
        "![image.png](data:image/png;base64,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)  \n",
        "Hàm Relu"
      ],
      "metadata": {
        "id": "9uRWwwI2pg9z"
      }
    },
    {
      "cell_type": "markdown",
      "source": [
        "Bắt đầu train model\n"
      ],
      "metadata": {
        "id": "_ZglQ1T0sAex"
      }
    },
    {
      "cell_type": "markdown",
      "source": [
        "\n"
      ],
      "metadata": {
        "id": "WCXf1fGDXyZg"
      }
    },
    {
      "cell_type": "code",
      "source": [
        "\n",
        "model = create_model()\n",
        "history = model.fit(x_train, y_train, epochs=3,  verbose=1)\n"
      ],
      "metadata": {
        "colab": {
          "base_uri": "https://localhost:8080/"
        },
        "id": "RC7lYXD9wkZp",
        "outputId": "edc3a769-da6b-4aff-a680-a5824528c189"
      },
      "execution_count": null,
      "outputs": [
        {
          "output_type": "stream",
          "name": "stdout",
          "text": [
            "Epoch 1/3\n",
            "1875/1875 [==============================] - 214s 113ms/step - loss: 0.1145 - acc: 0.9636\n",
            "Epoch 2/3\n",
            "1875/1875 [==============================] - 198s 106ms/step - loss: 0.0378 - acc: 0.9890\n",
            "Epoch 3/3\n",
            "1875/1875 [==============================] - 196s 105ms/step - loss: 0.0272 - acc: 0.9919\n"
          ]
        }
      ]
    },
    {
      "cell_type": "code",
      "source": [
        "image_to_predict = x_test[8]\n",
        "image_to_predict = image_to_predict.reshape(1, 28, 28, 1)\n",
        "image_to_predict = image_to_predict / 255.0\n",
        "predicted_vector = model.predict(image_to_predict)\n",
        "print(f'Predicted vector (softmax output): {predicted_vector}')\n",
        "print(predicted_vector.shape)\n",
        "y_pred = np.argmax(predicted_vector)\n",
        "print(y_pred)\n"
      ],
      "metadata": {
        "colab": {
          "base_uri": "https://localhost:8080/"
        },
        "id": "jQ2HgZvpkvnC",
        "outputId": "9046a837-c2ff-42fd-88fd-feb56ffbc254"
      },
      "execution_count": null,
      "outputs": [
        {
          "output_type": "stream",
          "name": "stdout",
          "text": [
            "1/1 [==============================] - 0s 26ms/step\n",
            "Predicted vector (softmax output): {predicted_vector}\n",
            "(1, 10)\n",
            "1\n"
          ]
        }
      ]
    },
    {
      "cell_type": "code",
      "source": [
        "\n",
        "test_loss, test_accuracy = model.evaluate(x_test, y_test, verbose=0)\n",
        "print(f'Test accuracy: {test_accuracy}')\n",
        "y_pred = np.argmax(model.predict(x_test), axis=1)\n",
        "precision = precision_score(y_test, y_pred, average='macro')\n",
        "recall = recall_score(y_test, y_pred, average='macro')\n",
        "print(f'Test precision: {precision}')\n",
        "print(f'Test recall: {recall}')\n"
      ],
      "metadata": {
        "colab": {
          "base_uri": "https://localhost:8080/"
        },
        "id": "Cyg6n7xY9u6O",
        "outputId": "c07e3b09-f0cd-4a69-e95f-462ca79432fc"
      },
      "execution_count": null,
      "outputs": [
        {
          "output_type": "stream",
          "name": "stdout",
          "text": [
            "Test accuracy: 0.9861999750137329\n",
            "313/313 [==============================] - 10s 31ms/step\n",
            "Test precision: 0.9863150473868039\n",
            "Test recall: 0.9861733213363969\n"
          ]
        }
      ]
    },
    {
      "cell_type": "markdown",
      "source": [
        "Các thông số đánh giá:\n",
        "- Accuracy (Độ chính xác): Đại diện cho tỷ lệ dự đoán đúng trên toàn bộ các trường hợp. Độ chính xác giúp ta đánh giá hiệu quả dự báo của mô hình trên một bộ dữ liệu. Độ chính xác càng cao thì mô hình của chúng ta càng chuẩn xác.\n",
        "\n",
        " Accuracy = (TP+TN)/Total example.\n",
        "\n",
        "\n",
        "- Precision : Precision trả lời cho câu hỏi trong các trường hợp được dự báo là positive thì có bao nhiêu trường hợp là đúng. Precision càng cao thì mô hình càng chính xác.\n",
        "\n",
        "  Precision = TP/(TP+FP)\n",
        "\n",
        "\n",
        "- Recall : Recall đo lường tỷ lệ dự báo chính xác các trường hợp dự đoán positive trên toàn bộ các mẫu thuộc nhóm positive.\n",
        "\n",
        "   Recall= TP/(TP+FN)\n",
        "\n",
        "- F1 Score: là trung bình điều hòa giữa precision và recall. Do đó nó đại diện hơn trong việc đánh gía độ chính xác trên đồng thời precision và recall\n",
        "\n",
        " F1 =  2/(precision^-1 + recall^-1)"
      ],
      "metadata": {
        "id": "KdFbDnphMmfj"
      }
    },
    {
      "cell_type": "code",
      "source": [
        "conv_output_shape = model.layers[0].output_shape\n",
        "print(\"Kích thước tensor sau lớp Conv2D đầu tiên:\", conv_output_shape)\n",
        "conv_output_shape1 = model.layers[1].output_shape\n",
        "print(\"Kích thước tensor sau lớp Maxpooling đầu tiên:\", conv_output_shape1)\n",
        "conv_output_shape2 = model.layers[2].output_shape\n",
        "print(\"Kích thước tensor sau lớp Conv2D thứ hai:\", conv_output_shape2)\n",
        "conv_output_shape3 = model.layers[3].output_shape\n",
        "print(\"Kích thước tensor sau lớp Maxpooling thứ hai:\", conv_output_shape3)\n",
        "conv_output_shape4 = model.layers[4].output_shape\n",
        "print(\"Kích thước tensor sau lớp flatten:\", conv_output_shape4)\n",
        "conv_output_shape5 = model.layers[5].output_shape\n",
        "print(\"Kích thước tensor sau lớp Dense đầu tiên:\", conv_output_shape5)\n",
        "conv_output_shape6 = model.layers[6].output_shape\n",
        "print(\"Kích thước tensor sau lớp Dense thứ hai:\", conv_output_shape6)"
      ],
      "metadata": {
        "colab": {
          "base_uri": "https://localhost:8080/"
        },
        "id": "pmSUeFdlQXzk",
        "outputId": "a4888868-88bd-49ab-94d5-148230ccc88f"
      },
      "execution_count": null,
      "outputs": [
        {
          "output_type": "stream",
          "name": "stdout",
          "text": [
            "Kích thước tensor sau lớp Conv2D đầu tiên: (None, 28, 28, 128)\n",
            "Kích thước tensor sau lớp Maxpooling đầu tiên: (None, 14, 14, 128)\n",
            "Kích thước tensor sau lớp Conv2D thứ hai: (None, 12, 12, 64)\n",
            "Kích thước tensor sau lớp Maxpooling thứ hai: (None, 6, 6, 64)\n",
            "Kích thước tensor sau lớp flatten: (None, 2304)\n",
            "Kích thước tensor sau lớp Dense đầu tiên: (None, 128)\n",
            "Kích thước tensor sau lớp Dense thứ hai: (None, 10)\n"
          ]
        }
      ]
    },
    {
      "cell_type": "markdown",
      "source": [
        "Sau layer cuối cùng sẽ được đưa vào hàm kích hoạt softmax để dự đoán lớp.\n"
      ],
      "metadata": {
        "id": "k4aQxt6bZBkP"
      }
    }
  ]
}